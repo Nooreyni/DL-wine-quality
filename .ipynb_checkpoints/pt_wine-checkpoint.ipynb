{
 "cells": [
  {
   "cell_type": "code",
   "execution_count": 6,
   "metadata": {},
   "outputs": [
    {
     "ename": "ModuleNotFoundError",
     "evalue": "No module named 'torch'",
     "output_type": "error",
     "traceback": [
      "\u001b[0;31m---------------------------------------------------------------------------\u001b[0m",
      "\u001b[0;31mModuleNotFoundError\u001b[0m                       Traceback (most recent call last)",
      "\u001b[0;32m<ipython-input-6-986bfb046517>\u001b[0m in \u001b[0;36m<module>\u001b[0;34m\u001b[0m\n\u001b[1;32m      3\u001b[0m \u001b[0;32mimport\u001b[0m \u001b[0mnumpy\u001b[0m \u001b[0;32mas\u001b[0m \u001b[0mnp\u001b[0m\u001b[0;34m\u001b[0m\u001b[0;34m\u001b[0m\u001b[0m\n\u001b[1;32m      4\u001b[0m \u001b[0;32mimport\u001b[0m \u001b[0mmatplotlib\u001b[0m\u001b[0;34m.\u001b[0m\u001b[0mpyplot\u001b[0m \u001b[0;32mas\u001b[0m \u001b[0mplt\u001b[0m\u001b[0;34m\u001b[0m\u001b[0;34m\u001b[0m\u001b[0m\n\u001b[0;32m----> 5\u001b[0;31m \u001b[0;32mimport\u001b[0m \u001b[0mtorch\u001b[0m\u001b[0;34m\u001b[0m\u001b[0;34m\u001b[0m\u001b[0m\n\u001b[0m\u001b[1;32m      6\u001b[0m \u001b[0mget_ipython\u001b[0m\u001b[0;34m(\u001b[0m\u001b[0;34m)\u001b[0m\u001b[0;34m.\u001b[0m\u001b[0mrun_line_magic\u001b[0m\u001b[0;34m(\u001b[0m\u001b[0;34m'matplotlib'\u001b[0m\u001b[0;34m,\u001b[0m \u001b[0;34m'inline'\u001b[0m\u001b[0;34m)\u001b[0m\u001b[0;34m\u001b[0m\u001b[0;34m\u001b[0m\u001b[0m\n",
      "\u001b[0;31mModuleNotFoundError\u001b[0m: No module named 'torch'"
     ]
    }
   ],
   "source": [
    "# importing related librairies\n",
    "import pandas as pd\n",
    "import numpy as np\n",
    "import matplotlib.pyplot as plt\n",
    "import torch\n",
    "%matplotlib inline"
   ]
  },
  {
   "cell_type": "code",
   "execution_count": 2,
   "metadata": {},
   "outputs": [
    {
     "name": "stdout",
     "output_type": "stream",
     "text": [
      "/usr/bin/python3\n"
     ]
    }
   ],
   "source": [
    "import sys\n",
    "print(sys.executable)"
   ]
  },
  {
   "cell_type": "code",
   "execution_count": 7,
   "metadata": {},
   "outputs": [
    {
     "name": "stdout",
     "output_type": "stream",
     "text": [
      "# packages in environment at /home/ousmane/miniconda3:\n",
      "#\n",
      "# Name                    Version                   Build  Channel\n",
      "_libgcc_mutex             0.1                        main  \n",
      "_tflow_select             2.3.0                     eigen  \n",
      "absl-py                   0.11.0           py38h578d9bd_0    conda-forge\n",
      "asgiref                   3.3.1                    pypi_0    pypi\n",
      "astor                     0.8.1              pyh9f0ad1d_0    conda-forge\n",
      "astunparse                1.6.3              pyhd8ed1ab_0    conda-forge\n",
      "backcall                  0.2.0              pyhd3eb1b0_0  \n",
      "blas                      1.0                         mkl  \n",
      "blinker                   1.4                        py_1    conda-forge\n",
      "brotlipy                  0.7.0           py38h27cfd23_1003  \n",
      "c-ares                    1.17.1               h36c2ea0_0    conda-forge\n",
      "ca-certificates           2019.11.28           hecc5488_0    conda-forge/label/cf202003\n",
      "cachetools                4.2.1              pyhd8ed1ab_0    conda-forge\n",
      "certifi                   2019.11.28       py38h32f6830_1    conda-forge/label/cf202003\n",
      "cffi                      1.14.5           py38h261ae71_0  \n",
      "chardet                   3.0.4                    pypi_0    pypi\n",
      "click                     7.1.2              pyh9f0ad1d_0    conda-forge\n",
      "colorama                  0.4.4              pyh9f0ad1d_0    conda-forge\n",
      "conda                     4.9.2            py38h578d9bd_0    conda-forge\n",
      "conda-package-handling    1.7.2            py38h03888b9_0  \n",
      "cryptography              3.3.1            py38h3c74f83_1  \n",
      "decorator                 4.4.2              pyhd3eb1b0_0  \n",
      "django                    3.1.7                    pypi_0    pypi\n",
      "future                    0.18.2           py38h578d9bd_3    conda-forge\n",
      "gast                      0.3.3                      py_0    conda-forge\n",
      "google-auth               1.21.3                     py_0    conda-forge\n",
      "google-auth-oauthlib      0.4.1                      py_2    conda-forge\n",
      "google-pasta              0.2.0              pyh8c360ce_0    conda-forge\n",
      "grpcio                    1.33.2           py38heead2fc_2    conda-forge\n",
      "h5py                      2.10.0          nompi_py38h7442b35_105    conda-forge\n",
      "hdf5                      1.10.6          nompi_h3c11f04_101    conda-forge\n",
      "idna                      2.10               pyhd3eb1b0_0  \n",
      "image                     1.5.33                   pypi_0    pypi\n",
      "imbalanced-learn          0.4.3                      py_0    conda-forge/label/cf201901\n",
      "imblearn                  0.0                      pypi_0    pypi\n",
      "importlib-metadata        3.7.0            py38h578d9bd_0    conda-forge\n",
      "install                   1.3.4                    pypi_0    pypi\n",
      "intel-openmp              2020.2                      254  \n",
      "ipykernel                 5.3.4            py38h5ca1d4c_0  \n",
      "ipython                   7.21.0           py38hb070fc8_0  \n",
      "ipython_genutils          0.2.0              pyhd3eb1b0_1  \n",
      "jedi                      0.17.0                   py38_0  \n",
      "joblib                    1.0.1              pyhd3eb1b0_0  \n",
      "jupyter_client            6.1.7                      py_0  \n",
      "jupyter_core              4.7.1            py38h06a4308_0  \n",
      "keras-preprocessing       1.1.2              pyhd8ed1ab_0    conda-forge\n",
      "keras-tuner               1.0.3                    pypi_0    pypi\n",
      "ld_impl_linux-64          2.33.1               h53a641e_7  \n",
      "libedit                   3.1.20191231         h14c3975_1  \n",
      "libffi                    3.3                  he6710b0_2  \n",
      "libgcc-ng                 9.1.0                hdf63c60_0  \n",
      "libgfortran-ng            7.3.0                hdf63c60_0  \n",
      "libprotobuf               3.13.0.1             h8b12597_0    conda-forge\n",
      "libsodium                 1.0.18               h7b6447c_0  \n",
      "libstdcxx-ng              9.1.0                hdf63c60_0  \n",
      "markdown                  3.3.4              pyhd8ed1ab_0    conda-forge\n",
      "mkl                       2020.2                      256  \n",
      "mkl-service               2.3.0            py38he904b0f_0  \n",
      "mkl_fft                   1.3.0            py38h54f3939_0  \n",
      "mkl_random                1.1.1            py38h0573a6f_0  \n",
      "ncurses                   6.2                  he6710b0_1  \n",
      "numpy                     1.19.2           py38h54aff64_0  \n",
      "numpy-base                1.19.2           py38hfa32c7d_0  \n",
      "oauthlib                  3.0.1                      py_0    conda-forge\n",
      "openssl                   1.1.1j               h27cfd23_0  \n",
      "opt_einsum                3.3.0                      py_0    conda-forge\n",
      "parso                     0.8.1              pyhd3eb1b0_0  \n",
      "pexpect                   4.8.0              pyhd3eb1b0_3  \n",
      "pickleshare               0.7.5           pyhd3eb1b0_1003  \n",
      "pillow                    8.1.0                    pypi_0    pypi\n",
      "pip                       21.0.1           py38h06a4308_0  \n",
      "prompt-toolkit            3.0.8                      py_0  \n",
      "protobuf                  3.13.0.1         py38hadf7658_1    conda-forge\n",
      "ptyprocess                0.7.0              pyhd3eb1b0_2  \n",
      "pyasn1                    0.4.8                      py_0    conda-forge\n",
      "pyasn1-modules            0.2.7                      py_0    conda-forge\n",
      "pycosat                   0.6.3            py38h7b6447c_1  \n",
      "pycparser                 2.20                       py_2  \n",
      "pygments                  2.8.0              pyhd3eb1b0_0  \n",
      "pyjwt                     2.0.1              pyhd8ed1ab_0    conda-forge\n",
      "pyopenssl                 20.0.1             pyhd3eb1b0_1  \n",
      "pysocks                   1.7.1            py38h06a4308_0  \n",
      "python                    3.8.5                h7579374_1  \n",
      "python-dateutil           2.8.1              pyhd3eb1b0_0  \n",
      "python_abi                3.8                      1_cp38    conda-forge\n",
      "pytz                      2021.1                   pypi_0    pypi\n",
      "pyzmq                     20.0.0           py38h2531618_1  \n",
      "readline                  8.1                  h27cfd23_0  \n",
      "requests                  2.25.1             pyhd3eb1b0_0  \n",
      "requests-oauthlib         1.3.0              pyh9f0ad1d_0    conda-forge\n",
      "rsa                       4.7.2              pyh44b312d_0    conda-forge\n",
      "ruamel_yaml               0.15.87          py38h7b6447c_1  \n",
      "scikit-learn              0.24.1           py38ha9443f7_0  \n",
      "scipy                     1.6.1            py38h91f5cce_0  \n",
      "setuptools                52.0.0           py38h06a4308_0  \n",
      "six                       1.15.0           py38h06a4308_0  \n",
      "sqlite                    3.33.0               h62c20be_0  \n",
      "sqlparse                  0.4.1                    pypi_0    pypi\n",
      "tabulate                  0.8.9              pyhd8ed1ab_0    conda-forge\n",
      "tensorboard               2.4.1              pyhd8ed1ab_0    conda-forge\n",
      "tensorboard-plugin-wit    1.8.0              pyh44b312d_0    conda-forge\n",
      "tensorflow                2.3.0           eigen_py38h71ff20e_0  \n",
      "tensorflow-base           2.3.0           eigen_py38hb57a387_0  \n",
      "tensorflow-estimator      2.4.0              pyh9656e83_0    conda-forge\n",
      "termcolor                 1.1.0                      py_2    conda-forge\n",
      "terminaltables            3.1.0                    pypi_0    pypi\n",
      "threadpoolctl             2.1.0              pyh5ca1d4c_0  \n",
      "tk                        8.6.10               hbc83047_0  \n",
      "torch                     1.7.1                    pypi_0    pypi\n",
      "tornado                   6.1              py38h27cfd23_0  \n",
      "tqdm                      4.56.0             pyhd3eb1b0_0  \n",
      "traitlets                 5.0.5              pyhd3eb1b0_0  \n",
      "urllib3                   1.26.3             pyhd3eb1b0_0  \n",
      "wcwidth                   0.2.5                      py_0  \n",
      "werkzeug                  1.0.1              pyh9f0ad1d_0    conda-forge\n",
      "wheel                     0.36.2             pyhd3eb1b0_0  \n",
      "wrapt                     1.12.1           py38h25fe258_2    conda-forge\n",
      "xz                        5.2.5                h7b6447c_0  \n",
      "yaml                      0.2.5                h7b6447c_0  \n",
      "zeromq                    4.3.3                he6710b0_3  \n",
      "zipp                      3.4.0                      py_0    conda-forge\n",
      "zlib                      1.2.11               h7b6447c_3  \n"
     ]
    }
   ],
   "source": [
    "! conda list"
   ]
  }
 ],
 "metadata": {
  "kernelspec": {
   "display_name": "Python 3",
   "language": "python",
   "name": "python3"
  },
  "language_info": {
   "codemirror_mode": {
    "name": "ipython",
    "version": 3
   },
   "file_extension": ".py",
   "mimetype": "text/x-python",
   "name": "python",
   "nbconvert_exporter": "python",
   "pygments_lexer": "ipython3",
   "version": "3.7.8"
  }
 },
 "nbformat": 4,
 "nbformat_minor": 2
}
